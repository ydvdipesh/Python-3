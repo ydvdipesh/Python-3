{
 "cells": [
  {
   "cell_type": "markdown",
   "metadata": {},
   "source": [
    "## Q1. write a python program to sum all the elements of a list?"
   ]
  },
  {
   "cell_type": "code",
   "execution_count": 11,
   "metadata": {},
   "outputs": [
    {
     "name": "stdout",
     "output_type": "stream",
     "text": [
      "The addition of the list element is:  45\n"
     ]
    }
   ],
   "source": [
    "l = [1,2,3,4,5,6,7,8,9]\n",
    "count = 0\n",
    "\n",
    "for i in l:\n",
    "    count += i\n",
    "    \n",
    "print(\"The addition of the list element is: \", count)"
   ]
  },
  {
   "cell_type": "markdown",
   "metadata": {},
   "source": [
    "## Q2. write a python program to multiply all the elements items of a list?"
   ]
  },
  {
   "cell_type": "code",
   "execution_count": 12,
   "metadata": {},
   "outputs": [
    {
     "name": "stdout",
     "output_type": "stream",
     "text": [
      "The multiplication value of the list element is:  362880\n"
     ]
    }
   ],
   "source": [
    "l = [1,2,3,4,5,6,7,8,9]\n",
    "count = 1\n",
    "\n",
    "for i in l:\n",
    "    count *= i\n",
    "    \n",
    "print(\"The multiplication value of the list element is: \", count)"
   ]
  },
  {
   "cell_type": "markdown",
   "metadata": {},
   "source": [
    "## Q3. write a program to find the largest number from the list?"
   ]
  },
  {
   "cell_type": "code",
   "execution_count": 20,
   "metadata": {},
   "outputs": [
    {
     "name": "stdout",
     "output_type": "stream",
     "text": [
      "The maximum value is:  52\n"
     ]
    }
   ],
   "source": [
    "l = [1,4,45,52,3]\n",
    "maximum = l[0]\n",
    "\n",
    "for i in l:\n",
    "    if i > maximum:\n",
    "        maximum = i\n",
    "\n",
    "print(\"The maximum value is: \", maximum)"
   ]
  },
  {
   "cell_type": "markdown",
   "metadata": {},
   "source": [
    "## Q4. write a program to find the smallest number from the list?"
   ]
  },
  {
   "cell_type": "code",
   "execution_count": 19,
   "metadata": {},
   "outputs": [
    {
     "name": "stdout",
     "output_type": "stream",
     "text": [
      "The minimum value is:  1\n"
     ]
    }
   ],
   "source": [
    "l = [1,4,45,52,3]\n",
    "minimum = l[0]\n",
    "\n",
    "for i in l:\n",
    "    if i < minimum :\n",
    "        minimum = i\n",
    "\n",
    "print(\"The minimum value is: \", minimum)"
   ]
  },
  {
   "cell_type": "markdown",
   "metadata": {},
   "source": [
    "## Q5. Write a Python program to count the number of strings where the string length is 2 or more and the first and last character are same from a given list of strings \n",
    "## Sample List : ['abc', 'xyz', 'aba', '1221']. Expected Result : 2\n"
   ]
  },
  {
   "cell_type": "code",
   "execution_count": 24,
   "metadata": {},
   "outputs": [
    {
     "name": "stdout",
     "output_type": "stream",
     "text": [
      "2\n"
     ]
    }
   ],
   "source": [
    "l = [\"aba\", \"xyx\", \"acd\", \"egf\"]\n",
    "count = 0\n",
    "\n",
    "for i in range(0,len(l)):\n",
    "    c = l[i]\n",
    "    if len(c)>=2 and c[0]==c[-1]:\n",
    "        count+=1\n",
    "\n",
    "print(count)"
   ]
  },
  {
   "cell_type": "markdown",
   "metadata": {},
   "source": [
    "## Q6. Write a Python program to get a list, sorted in increasing order by the last element in each tuple from a given list of non-empty tuples.  \n",
    "## Sample List : [(2, 5), (1, 2), (4, 4), (2, 3), (2, 1)]\n",
    "## Expected Result : [(2, 1), (1, 2), (2, 3), (4, 4), (2, 5)]"
   ]
  },
  {
   "cell_type": "code",
   "execution_count": 1,
   "metadata": {},
   "outputs": [
    {
     "name": "stdout",
     "output_type": "stream",
     "text": [
      "[(2, 7), (2, 5), (2, 1), (4, 6), (1, 10)]\n"
     ]
    }
   ],
   "source": [
    "a= [(2, 7), (1, 10), (4, 6), (2, 5), (2, 1)]\n",
    "for i in range(0,len(a)):\n",
    "    for j in range(i,len(a)-1):\n",
    "        if a[j][-1]>a[j+1][-1]:\n",
    "            a[j],a[j+1]=a[j+1],a[j]\n",
    "print(a)"
   ]
  },
  {
   "cell_type": "markdown",
   "metadata": {},
   "source": [
    "## Q7. Write a Python program to remove duplicates from a list. "
   ]
  },
  {
   "cell_type": "code",
   "execution_count": 8,
   "metadata": {},
   "outputs": [
    {
     "name": "stdout",
     "output_type": "stream",
     "text": [
      "[1, 25, 20, 26, 254]\n"
     ]
    }
   ],
   "source": [
    "l = [1,25,1,25,20,26,254,25]\n",
    "l1=[]\n",
    "\n",
    "for i in l:\n",
    "    if i not in l1:\n",
    "        l1.append(i)\n",
    "print(l1)"
   ]
  },
  {
   "cell_type": "markdown",
   "metadata": {},
   "source": [
    "## Q8. Write a Python program to check a list is empty or not. "
   ]
  },
  {
   "cell_type": "code",
   "execution_count": 11,
   "metadata": {},
   "outputs": [
    {
     "name": "stdout",
     "output_type": "stream",
     "text": [
      "The list is empty\n"
     ]
    }
   ],
   "source": [
    "l = []\n",
    "a = len(l)\n",
    "\n",
    "if a==0:\n",
    "    print(\"The list is empty\")\n"
   ]
  },
  {
   "cell_type": "markdown",
   "metadata": {},
   "source": [
    "## Q9. Write a Python program to clone or copy a list."
   ]
  },
  {
   "cell_type": "code",
   "execution_count": 13,
   "metadata": {},
   "outputs": [
    {
     "name": "stdout",
     "output_type": "stream",
     "text": [
      "[25, 26, 24, 89, 53]\n"
     ]
    }
   ],
   "source": [
    "l = [25,26,24,89,53]\n",
    "a = list(l)\n",
    "print(a)"
   ]
  },
  {
   "cell_type": "markdown",
   "metadata": {},
   "source": [
    "## Q10. Write a Python program to find the list of words that are longer than n from a given list of words."
   ]
  },
  {
   "cell_type": "code",
   "execution_count": 2,
   "metadata": {},
   "outputs": [
    {
     "name": "stdout",
     "output_type": "stream",
     "text": [
      "Largest element is: 7\n"
     ]
    }
   ],
   "source": [
    "a=[1,4,5,2,7]\n",
    "b=1\n",
    "for i in a:\n",
    "    if i>b:\n",
    "        b=i\n",
    "print(\"Largest element is:\",b)"
   ]
  },
  {
   "cell_type": "markdown",
   "metadata": {},
   "source": [
    "## Q11. Write a Python function that takes two lists and returns True if they have at least one common member."
   ]
  },
  {
   "cell_type": "code",
   "execution_count": 2,
   "metadata": {},
   "outputs": [
    {
     "name": "stdout",
     "output_type": "stream",
     "text": [
      "true\n"
     ]
    }
   ],
   "source": [
    "a=[1,2,5,3,8,23,1]\n",
    "b=[1,2,4,6,7,9,12]\n",
    "for i in a:\n",
    "    if i in b:\n",
    "        print(\"true\")\n",
    "        break\n",
    "else:\n",
    "    print(\"not common element\")"
   ]
  },
  {
   "cell_type": "markdown",
   "metadata": {},
   "source": [
    "## Q12. Write a Python program to print a specified list after removing the 0th, 4th and 5th elements?"
   ]
  },
  {
   "cell_type": "code",
   "execution_count": 4,
   "metadata": {},
   "outputs": [
    {
     "name": "stdout",
     "output_type": "stream",
     "text": [
      "['Green', 'White', 'Black']\n"
     ]
    }
   ],
   "source": [
    "a=['Red', 'Green', 'White', 'Black', 'Pink', 'Yellow']\n",
    "del a[0] \n",
    "del a[3]\n",
    "del a[3]\n",
    "print(a)"
   ]
  },
  {
   "cell_type": "code",
   "execution_count": null,
   "metadata": {},
   "outputs": [],
   "source": []
  }
 ],
 "metadata": {
  "kernelspec": {
   "display_name": "Python 3",
   "language": "python",
   "name": "python3"
  },
  "language_info": {
   "codemirror_mode": {
    "name": "ipython",
    "version": 3
   },
   "file_extension": ".py",
   "mimetype": "text/x-python",
   "name": "python",
   "nbconvert_exporter": "python",
   "pygments_lexer": "ipython3",
   "version": "3.8.5"
  }
 },
 "nbformat": 4,
 "nbformat_minor": 4
}
