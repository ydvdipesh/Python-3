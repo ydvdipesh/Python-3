{
 "cells": [
  {
   "cell_type": "markdown",
   "metadata": {},
   "source": [
    "## Q1. Write a program to multiply two numbers using functions?"
   ]
  },
  {
   "cell_type": "code",
   "execution_count": 7,
   "metadata": {},
   "outputs": [
    {
     "name": "stdout",
     "output_type": "stream",
     "text": [
      "Enter a number: 2\n",
      "Enter a number: 3\n",
      "The multiplication of 2 and 3 is 6\n"
     ]
    }
   ],
   "source": [
    "a = int(input(\"Enter a number: \"))\n",
    "b = int(input(\"Enter a number: \"))\n",
    "\n",
    "def multiply(a,b):\n",
    "    return a*b\n",
    "    \n",
    "print(f\"The multiplication of {a} and {b} is\",multiply(a,b))"
   ]
  },
  {
   "cell_type": "markdown",
   "metadata": {},
   "source": [
    "## Q2. Write a program to add two numbers using functions?"
   ]
  },
  {
   "cell_type": "code",
   "execution_count": 8,
   "metadata": {},
   "outputs": [
    {
     "name": "stdout",
     "output_type": "stream",
     "text": [
      "Enter a number: 10\n",
      "Enter a number: 100\n",
      "The addition of 10 and 100 is 110\n"
     ]
    }
   ],
   "source": [
    "a = int(input(\"Enter a number: \"))\n",
    "b = int(input(\"Enter a number: \"))\n",
    "\n",
    "def addition(a,b):\n",
    "    return a+b\n",
    "    \n",
    "print(f\"The addition of {a} and {b} is\",addition(a,b))"
   ]
  },
  {
   "cell_type": "markdown",
   "metadata": {},
   "source": [
    "## Q3. Calculate factorial of a number using function?"
   ]
  },
  {
   "cell_type": "code",
   "execution_count": 1,
   "metadata": {},
   "outputs": [
    {
     "name": "stdout",
     "output_type": "stream",
     "text": [
      "Enter a number: 5\n",
      "The factorial of 5 is 120\n"
     ]
    }
   ],
   "source": [
    "a = int(input(\"Enter a number: \"))\n",
    "\n",
    "def fact(a):\n",
    "    total = 1\n",
    "    for i in range(1,a+1):\n",
    "        total *= i\n",
    "    return total\n",
    "\n",
    "print(f\"The factorial of {a} is\", fact(a))"
   ]
  },
  {
   "cell_type": "markdown",
   "metadata": {},
   "source": [
    "## Q4. Create sequence of Fibonacci using function?"
   ]
  },
  {
   "cell_type": "code",
   "execution_count": 10,
   "metadata": {},
   "outputs": [
    {
     "name": "stdout",
     "output_type": "stream",
     "text": [
      "Enter a number: 10\n",
      "The fibionacci series upto 10 terms is 0 1 1 2 3 5 8 13 21 34 "
     ]
    }
   ],
   "source": [
    "n = int(input(\"Enter a number: \"))\n",
    "\n",
    "def fibonacci(n):\n",
    "    a = 0\n",
    "    b = 1\n",
    "    if n == 1:\n",
    "        print(f\"The fibionacci series upto {n} terms is\", a, end=\"\")\n",
    "    elif n==2:\n",
    "        print(f\"The fibionacci series upto {n} terms is\", a,b, end = \"\")\n",
    "    else:\n",
    "        print(f\"The fibionacci series upto {n} terms is\", a,b, end = \" \")\n",
    "        for i in range(n-2):\n",
    "            c = a+b\n",
    "            print(c, end=\" \")\n",
    "            a = b\n",
    "            b = c\n",
    "        \n",
    "        \n",
    "fibonacci(n)\n"
   ]
  },
  {
   "cell_type": "markdown",
   "metadata": {},
   "source": [
    "## Q5. Write a program to swapping of two numbers using functions?"
   ]
  },
  {
   "cell_type": "code",
   "execution_count": 4,
   "metadata": {},
   "outputs": [
    {
     "name": "stdout",
     "output_type": "stream",
     "text": [
      "Enter a number: 5\n",
      "Enter a number: 6\n",
      "The numbers before swapping are: 5, 6\n",
      "The numbers after swapping\n",
      "The numbers are swaped (6, 5)\n"
     ]
    }
   ],
   "source": [
    "a = int(input(\"Enter a number: \"))\n",
    "b = int(input(\"Enter a number: \"))\n",
    "print(f\"The numbers before swapping are: {a}, {b}\")\n",
    "\n",
    "def swap(a,b):\n",
    "    a,b = b,a\n",
    "    return a,b\n",
    "print(\"The numbers after swapping\")\n",
    "print(\"The numbers are swaped\",swap(a,b))\n"
   ]
  },
  {
   "cell_type": "markdown",
   "metadata": {},
   "source": [
    "## Q6. Write a function to find the HCF of some given numbers?"
   ]
  },
  {
   "cell_type": "code",
   "execution_count": 23,
   "metadata": {},
   "outputs": [
    {
     "name": "stdout",
     "output_type": "stream",
     "text": [
      "Enter a number: 14\n",
      "Enter a number: 24\n",
      "The HCF of 14 and 24 is 2\n"
     ]
    }
   ],
   "source": [
    "a = int(input(\"Enter a number: \"))\n",
    "b = int(input(\"Enter a number: \"))\n",
    "\n",
    "def HCF(a,b):\n",
    "    if a>b:\n",
    "        smaller = b\n",
    "    else:\n",
    "        smaller = a\n",
    "    for i in range(1,smaller+1):\n",
    "        if ((a%i==0)and(b%i==0)):\n",
    "            hcf = i\n",
    "    return hcf\n",
    "print(f\"The HCF of {a} and {b} is\", HCF(a,b))"
   ]
  },
  {
   "cell_type": "markdown",
   "metadata": {},
   "source": [
    "## Q7. Write a function to find the ASCII value of the character?"
   ]
  },
  {
   "cell_type": "code",
   "execution_count": 29,
   "metadata": {},
   "outputs": [
    {
     "name": "stdout",
     "output_type": "stream",
     "text": [
      "Enter a number to find it's ASCII value: g\n",
      "('The ASCII value of character g is', 103)\n"
     ]
    }
   ],
   "source": [
    "ch = input(\"Enter a number to find it's ASCII value: \")\n",
    "\n",
    "def find_ascii(ch):\n",
    "    return f\"The ASCII value of character {ch} is\",ord(ch)\n",
    "    \n",
    "print(find_ascii(ch))"
   ]
  },
  {
   "cell_type": "markdown",
   "metadata": {},
   "source": [
    "## Q8. Write a program that demonstrates the (built in function) mathematical functions?"
   ]
  },
  {
   "cell_type": "code",
   "execution_count": 36,
   "metadata": {},
   "outputs": [
    {
     "name": "stdout",
     "output_type": "stream",
     "text": [
      "This is a function of math library to find the factorial\n",
      "The factorial is  120\n"
     ]
    }
   ],
   "source": [
    "import math\n",
    "\n",
    "result = math.factorial(5)\n",
    "print(\"This is a function of math library to find the factorial\")\n",
    "print(\"The factorial is \", result)"
   ]
  },
  {
   "cell_type": "markdown",
   "metadata": {},
   "source": [
    "## Q9. Write a program that demonstrates the (built in function) Date & Time ?"
   ]
  },
  {
   "cell_type": "code",
   "execution_count": 39,
   "metadata": {},
   "outputs": [
    {
     "name": "stdout",
     "output_type": "stream",
     "text": [
      "2021-05-23 22:42:38.311237\n"
     ]
    }
   ],
   "source": [
    "import datetime\n",
    "\n",
    "print(datetime.datetime.now())\n"
   ]
  },
  {
   "cell_type": "markdown",
   "metadata": {},
   "source": [
    "## Q10. Write a program that demonstrates Required arguments?"
   ]
  },
  {
   "cell_type": "code",
   "execution_count": null,
   "metadata": {},
   "outputs": [],
   "source": [
    "name  = input(\"Enter your name: \")\n",
    "\n",
    "def say_hello(name):\n",
    "    return f\"Hi {name}\"\n",
    "print(say_hello)"
   ]
  },
  {
   "cell_type": "markdown",
   "metadata": {},
   "source": [
    "## Q11. Write a program that demonstrates keyword arguments?"
   ]
  },
  {
   "cell_type": "code",
   "execution_count": 45,
   "metadata": {},
   "outputs": [
    {
     "name": "stdout",
     "output_type": "stream",
     "text": [
      "<class 'tuple'>\n",
      "The sum is:  15\n"
     ]
    }
   ],
   "source": [
    "def all_total(*args):\n",
    "    total = 0\n",
    "    for i in args:\n",
    "        total += i\n",
    "    print(type(args))\n",
    "    return (total)\n",
    "print(\"The sum is: \",all_total(1,2,3,4,5))"
   ]
  },
  {
   "cell_type": "markdown",
   "metadata": {},
   "source": [
    "## Q12. Write a program that demonstrates Default arguments?"
   ]
  },
  {
   "cell_type": "code",
   "execution_count": 52,
   "metadata": {},
   "outputs": [
    {
     "name": "stdout",
     "output_type": "stream",
     "text": [
      "Enter the radius: 5\n",
      "The area of circle having radius 5 is 78.5\n"
     ]
    }
   ],
   "source": [
    "r = int(input(\"Enter the radius: \"))\n",
    "\n",
    "def find_area_circle(r,pi = 3.14):\n",
    "    area = pi*(r**2)\n",
    "    return area\n",
    "print(f\"The area of circle having radius {r} is\",find_area_circle(r))"
   ]
  },
  {
   "cell_type": "markdown",
   "metadata": {},
   "source": [
    "## Q13. Write a program that demonstrates Variable – length arguments?"
   ]
  },
  {
   "cell_type": "code",
   "execution_count": 1,
   "metadata": {},
   "outputs": [
    {
     "name": "stdout",
     "output_type": "stream",
     "text": [
      "{'first_name': 'Dipesh', 'last_name': 'Yadav'}\n",
      "<class 'dict'>\n"
     ]
    }
   ],
   "source": [
    "def func(**kwargs):\n",
    "    print(kwargs)\n",
    "    print(type(kwargs))\n",
    "    \n",
    "func(first_name = 'Dipesh',last_name = 'Yadav')"
   ]
  },
  {
   "cell_type": "code",
   "execution_count": null,
   "metadata": {},
   "outputs": [],
   "source": []
  }
 ],
 "metadata": {
  "kernelspec": {
   "display_name": "Python 3",
   "language": "python",
   "name": "python3"
  },
  "language_info": {
   "codemirror_mode": {
    "name": "ipython",
    "version": 3
   },
   "file_extension": ".py",
   "mimetype": "text/x-python",
   "name": "python",
   "nbconvert_exporter": "python",
   "pygments_lexer": "ipython3",
   "version": "3.8.5"
  }
 },
 "nbformat": 4,
 "nbformat_minor": 4
}
