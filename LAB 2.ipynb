{
 "cells": [
  {
   "cell_type": "markdown",
   "metadata": {},
   "source": [
    "## LAB 02\n"
   ]
  },
  {
   "cell_type": "markdown",
   "metadata": {},
   "source": [
    "Write a program to check whether 10 is greater than 2 or not."
   ]
  },
  {
   "cell_type": "code",
   "execution_count": 3,
   "metadata": {},
   "outputs": [
    {
     "name": "stdout",
     "output_type": "stream",
     "text": [
      "10 is greater\n"
     ]
    }
   ],
   "source": [
    "if(10>2):\n",
    "    print(\"10 is greater\")\n",
    "else:\n",
    "    print(\"2 is greater\")"
   ]
  },
  {
   "cell_type": "markdown",
   "metadata": {},
   "source": [
    "Print 3 variables x,y,z having int,string,boolean datatype."
   ]
  },
  {
   "cell_type": "code",
   "execution_count": 5,
   "metadata": {},
   "outputs": [
    {
     "name": "stdout",
     "output_type": "stream",
     "text": [
      "2 2.0 HELLO\n"
     ]
    }
   ],
   "source": [
    "x = 2\n",
    "y = 2.0\n",
    "z = \"HELLO\"\n",
    "print(x,y,z)"
   ]
  },
  {
   "cell_type": "markdown",
   "metadata": {},
   "source": [
    "Print 3 variables x,y,z using assignment with multiple values."
   ]
  },
  {
   "cell_type": "code",
   "execution_count": 6,
   "metadata": {},
   "outputs": [
    {
     "name": "stdout",
     "output_type": "stream",
     "text": [
      "1 2 3\n"
     ]
    }
   ],
   "source": [
    "x,y,z = {1,2,3}\n",
    "print(x,y,z)"
   ]
  },
  {
   "cell_type": "markdown",
   "metadata": {},
   "source": [
    "Add comments in the code."
   ]
  },
  {
   "cell_type": "code",
   "execution_count": 7,
   "metadata": {},
   "outputs": [
    {
     "data": {
      "text/plain": [
       "' Ques- 1 What is Python?\\nAns- Python is a programming language of software development, web development, scripting and mathematical operations.\\n\\nQues- 2 Give any five areas where python can be used.\\nAns- \\nInterpreted\\nCase sensitive\\nIntegrated development environment\\nIndentation\\n'"
      ]
     },
     "execution_count": 7,
     "metadata": {},
     "output_type": "execute_result"
    }
   ],
   "source": [
    "\"\"\" Ques- 1 What is Python?\n",
    "Ans- Python is a programming language of software development, web development, scripting and mathematical operations.\n",
    "\n",
    "Ques- 2 Give any five areas where python can be used.\n",
    "Ans- \n",
    "Interpreted\n",
    "Case sensitive\n",
    "Integrated development environment\n",
    "Indentation\n",
    "\"\"\""
   ]
  },
  {
   "cell_type": "markdown",
   "metadata": {},
   "source": [
    "Print datatype of variable."
   ]
  },
  {
   "cell_type": "code",
   "execution_count": 9,
   "metadata": {},
   "outputs": [
    {
     "name": "stdout",
     "output_type": "stream",
     "text": [
      "<class 'int'>\n",
      "<class 'float'>\n",
      "<class 'str'>\n"
     ]
    }
   ],
   "source": [
    "x = 2\n",
    "y = 2.0\n",
    "z = \"HELLO\"\n",
    "print(type(x))\n",
    "print(type(y))\n",
    "print(type(z))"
   ]
  },
  {
   "cell_type": "markdown",
   "metadata": {},
   "source": [
    "Printing"
   ]
  },
  {
   "cell_type": "code",
   "execution_count": 13,
   "metadata": {},
   "outputs": [
    {
     "name": "stdout",
     "output_type": "stream",
     "text": [
      "I am learning python\n"
     ]
    }
   ],
   "source": [
    "x = \"learning python\"\n",
    "print(\"I am\" , x)"
   ]
  },
  {
   "cell_type": "markdown",
   "metadata": {},
   "source": [
    "Print the variables fulfilling the criterion of writing variable name"
   ]
  },
  {
   "cell_type": "code",
   "execution_count": 27,
   "metadata": {},
   "outputs": [
    {
     "name": "stdout",
     "output_type": "stream",
     "text": [
      "_hii n1 10\n"
     ]
    }
   ],
   "source": [
    "x = \"_hii\"\n",
    "y = \"n1\"\n",
    "z = 10\n",
    "print(x,y,z)"
   ]
  },
  {
   "cell_type": "markdown",
   "metadata": {},
   "source": [
    "Print datatype of following : "
   ]
  },
  {
   "cell_type": "code",
   "execution_count": 17,
   "metadata": {},
   "outputs": [
    {
     "name": "stdout",
     "output_type": "stream",
     "text": [
      "<class 'str'>\n",
      "<class 'int'>\n",
      "<class 'float'>\n",
      "<class 'list'>\n",
      "<class 'tuple'>\n",
      "<class 'dict'>\n",
      "<class 'list'>\n",
      "<class 'tuple'>\n",
      "<class 'set'>\n",
      "<class 'bool'>\n"
     ]
    }
   ],
   "source": [
    "x = \"hello\"\n",
    "print(type(x))\n",
    "x = 20\n",
    "print(type(x))\n",
    "x = 20.5\n",
    "print(type(x))\n",
    "x = [\"a\",\"b\",\"c\"]\n",
    "print(type(x))\n",
    "x =  (\"a\",\"b\",\"c\")\n",
    "print(type(x))\n",
    "x = {1:\"apple\", 2:\"mango\"}\n",
    "print(type(x))\n",
    "x = list((\"a\",\"b\",\"c\"))\n",
    "print(type(x))\n",
    "x = tuple((\"a\",\"b\",\"c\"))\n",
    "print(type(x))\n",
    "x = set((\"(a\",\"b\",\"c\"))\n",
    "print(type(x))\n",
    "x = bool(5)\n",
    "print(type(x))"
   ]
  },
  {
   "cell_type": "markdown",
   "metadata": {},
   "source": [
    "Print 3rd,4th,5th from last and 3rd,4th,5th character from first of the string."
   ]
  },
  {
   "cell_type": "code",
   "execution_count": 19,
   "metadata": {},
   "outputs": [
    {
     "name": "stdout",
     "output_type": "stream",
     "text": [
      "THO\n"
     ]
    }
   ],
   "source": [
    "x = \"PYTHON\"\n",
    "print(x[2:5 ])"
   ]
  },
  {
   "cell_type": "code",
   "execution_count": 26,
   "metadata": {},
   "outputs": [
    {
     "name": "stdout",
     "output_type": "stream",
     "text": [
      "YTH\n"
     ]
    }
   ],
   "source": [
    "x = \"PYTHON\"\n",
    "print(x[-5:-2 ])"
   ]
  }
 ],
 "metadata": {
  "kernelspec": {
   "display_name": "Python 3",
   "language": "python",
   "name": "python3"
  },
  "language_info": {
   "codemirror_mode": {
    "name": "ipython",
    "version": 3
   },
   "file_extension": ".py",
   "mimetype": "text/x-python",
   "name": "python",
   "nbconvert_exporter": "python",
   "pygments_lexer": "ipython3",
   "version": "3.8.5"
  }
 },
 "nbformat": 4,
 "nbformat_minor": 4
}
