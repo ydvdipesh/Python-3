{
 "cells": [
  {
   "cell_type": "markdown",
   "metadata": {},
   "source": [
    "## Q1. Create an empty dictionary?"
   ]
  },
  {
   "cell_type": "code",
   "execution_count": 4,
   "metadata": {},
   "outputs": [
    {
     "name": "stdout",
     "output_type": "stream",
     "text": [
      "{}\n"
     ]
    }
   ],
   "source": [
    "d1 = {}\n",
    "print(d1)"
   ]
  },
  {
   "cell_type": "markdown",
   "metadata": {},
   "source": [
    "## Q2. Create the following dictionary :\n",
    "## a.\tKey\tvalue\n",
    "## b.\tA\t10\n",
    "## c.\tB\t20\n"
   ]
  },
  {
   "cell_type": "code",
   "execution_count": 53,
   "metadata": {},
   "outputs": [
    {
     "name": "stdout",
     "output_type": "stream",
     "text": [
      "{'A': 10, 'B': 20}\n"
     ]
    }
   ],
   "source": [
    "d1 = {'A': 10, 'B': 20}\n",
    "print(d1)"
   ]
  },
  {
   "cell_type": "markdown",
   "metadata": {},
   "source": [
    "## Q3. Create a dictionary with different datatypes for keys?"
   ]
  },
  {
   "cell_type": "code",
   "execution_count": 6,
   "metadata": {},
   "outputs": [
    {
     "name": "stdout",
     "output_type": "stream",
     "text": [
      "{'a': 10, 10: 20, 'A': 30, 'Name': 'Dipesh'}\n"
     ]
    }
   ],
   "source": [
    "d1 = {'a':10, 10: 20, 'A':30, 'Name': 'Dipesh'}\n",
    "print(d1)"
   ]
  },
  {
   "cell_type": "markdown",
   "metadata": {},
   "source": [
    "## Q4. Print all the items of a dictionary?"
   ]
  },
  {
   "cell_type": "code",
   "execution_count": 5,
   "metadata": {},
   "outputs": [
    {
     "name": "stdout",
     "output_type": "stream",
     "text": [
      "dict_items([('Name', 'Dipesh'), ('Age', 20)])\n"
     ]
    }
   ],
   "source": [
    "d1 = {'Name': 'Dipesh', 'Age':20}\n",
    "print(d1.items())"
   ]
  },
  {
   "cell_type": "markdown",
   "metadata": {},
   "source": [
    "## Q5. Delete an element of a dictionary?"
   ]
  },
  {
   "cell_type": "code",
   "execution_count": 4,
   "metadata": {},
   "outputs": [
    {
     "name": "stdout",
     "output_type": "stream",
     "text": [
      "{'Age': 20}\n"
     ]
    }
   ],
   "source": [
    "d1 = {'Name': 'Dipesh', 'Age':20}\n",
    "d1.pop('Name')\n",
    "print(d1)"
   ]
  },
  {
   "cell_type": "markdown",
   "metadata": {},
   "source": [
    "## Q6. Delete full dictionary?"
   ]
  },
  {
   "cell_type": "code",
   "execution_count": 3,
   "metadata": {},
   "outputs": [
    {
     "name": "stdout",
     "output_type": "stream",
     "text": [
      "{}\n"
     ]
    }
   ],
   "source": [
    "d1 = {'Name': 'Dipesh', 'Age':20}\n",
    "d1.clear()\n",
    "print(d1)\n"
   ]
  },
  {
   "cell_type": "markdown",
   "metadata": {},
   "source": [
    "## Q7. Print a value for a key?"
   ]
  },
  {
   "cell_type": "code",
   "execution_count": 2,
   "metadata": {},
   "outputs": [
    {
     "name": "stdout",
     "output_type": "stream",
     "text": [
      "dipesh\n"
     ]
    }
   ],
   "source": [
    "d1 = {'Name': 'dipesh', 'Age':20}\n",
    "print(d1['Name'])"
   ]
  },
  {
   "cell_type": "markdown",
   "metadata": {},
   "source": [
    "## Q8. To check if a key id present in a dictionary?"
   ]
  },
  {
   "cell_type": "code",
   "execution_count": 1,
   "metadata": {},
   "outputs": [
    {
     "name": "stdout",
     "output_type": "stream",
     "text": [
      "Yes present\n"
     ]
    }
   ],
   "source": [
    "d1 = {'Name': 'Dipesh', 'Age':20}\n",
    "if 'Name' in d1:\n",
    "    print(\"Yes present\")\n",
    "else:\n",
    "    print(\"Not present\")"
   ]
  },
  {
   "cell_type": "markdown",
   "metadata": {},
   "source": [
    "## Q9. Update a value of a key?"
   ]
  },
  {
   "cell_type": "code",
   "execution_count": 90,
   "metadata": {},
   "outputs": [
    {
     "name": "stdout",
     "output_type": "stream",
     "text": [
      "{'Name1': 'Yash', 'Age1': 20, 'Name2': 'Abhay', 'Age2': 20, 'Name3': 'Ankit'}\n"
     ]
    }
   ],
   "source": [
    "d1 = {'Name1': 'Jatin', 'Age1':20,\n",
    "     'Name2': 'Dipesh', 'Age2': 20}\n",
    "d1['Name3'] = 'Ankit'\n",
    "print(d1)"
   ]
  },
  {
   "cell_type": "markdown",
   "metadata": {},
   "source": [
    "## Q10. Add a new key value pair?"
   ]
  },
  {
   "cell_type": "code",
   "execution_count": 8,
   "metadata": {},
   "outputs": [
    {
     "name": "stdout",
     "output_type": "stream",
     "text": [
      "{'Name1': 'Dipesh', 'Age1': 20, 'Name2': 'Jatin', 'Age2': 20, 'Name3': 'Lakshay', 'Age': 20}\n"
     ]
    }
   ],
   "source": [
    "d1 = {'Name1': 'Dipesh', 'Age1':20,\n",
    "     'Name2': 'Jatin', 'Age2': 20}\n",
    "d1['Name3'] = 'Lakshay'\n",
    "d1['Age'] = 20\n",
    "print(d1)"
   ]
  },
  {
   "cell_type": "markdown",
   "metadata": {},
   "source": [
    "## Q11. Print dictionary for keys{1,10} and values as square of keys?"
   ]
  },
  {
   "cell_type": "code",
   "execution_count": 40,
   "metadata": {},
   "outputs": [
    {
     "name": "stdout",
     "output_type": "stream",
     "text": [
      "{1: 1, 2: 4, 3: 9, 4: 16, 5: 25, 6: 36, 7: 49, 8: 64, 9: 81, 10: 100}\n"
     ]
    }
   ],
   "source": [
    "dic = {}\n",
    "\n",
    "for i in range(1,11):\n",
    "    dic[i] = i*i\n",
    "print(dic)"
   ]
  },
  {
   "cell_type": "markdown",
   "metadata": {},
   "source": [
    "## Q12. Print nested dictionary?"
   ]
  },
  {
   "cell_type": "code",
   "execution_count": 10,
   "metadata": {},
   "outputs": [
    {
     "name": "stdout",
     "output_type": "stream",
     "text": [
      "{'Names': {1: 'jatin', 2: 'dipesh', 3: 'Lakshay'}, 'Age': {1: 20, 2: 20, 3: 20}}\n"
     ]
    }
   ],
   "source": [
    "d1 = {'Names': {1: 'jatin',2: 'dipesh',3: 'Lakshay' },\n",
    "     'Age': {1: 20,2: 20,3: 20}}\n",
    "print(d1)"
   ]
  },
  {
   "cell_type": "markdown",
   "metadata": {},
   "source": [
    "## Q13.Concatenate three dictionaries:\n",
    "## Sample Dictionary :\n",
    "## dic1={1:10, 2:20}\n",
    "## dic2={3:30, 4:40}\n",
    "## dic3={5:50,6:60}\n",
    "## Expected Result : {1: 10, 2: 20, 3: 30, 4: 40, 5: 50, 6: 60} "
   ]
  },
  {
   "cell_type": "code",
   "execution_count": 60,
   "metadata": {},
   "outputs": [
    {
     "name": "stdout",
     "output_type": "stream",
     "text": [
      "{1: 10, 2: 20, 3: 30, 4: 40, 5: 50, 6: 60}\n"
     ]
    }
   ],
   "source": [
    "d1 = {1:10, 2:20}\n",
    "d2 = {3:30, 4:40}\n",
    "d3 = {5:50, 6:60}\n",
    "d4 = {}\n",
    "\n",
    "for d in (d1,d2,d3):\n",
    "    d4.update(d)\n",
    "print(d4)"
   ]
  },
  {
   "cell_type": "markdown",
   "metadata": {},
   "source": [
    "## Q14. Sum all the values of a dictionary?"
   ]
  },
  {
   "cell_type": "code",
   "execution_count": 80,
   "metadata": {},
   "outputs": [
    {
     "name": "stdout",
     "output_type": "stream",
     "text": [
      "The sum is: 150\n"
     ]
    }
   ],
   "source": [
    "d1 = {1: 10, 2: 20, 3: 30, 4: 40, 5: 50}\n",
    "total = 0\n",
    "for i in d1.values():\n",
    "    total += i\n",
    "print(\"The sum is:\",total)"
   ]
  },
  {
   "cell_type": "markdown",
   "metadata": {},
   "source": [
    "## Q15. Accessing an element of a nested dictionary?"
   ]
  },
  {
   "cell_type": "code",
   "execution_count": 9,
   "metadata": {},
   "outputs": [
    {
     "name": "stdout",
     "output_type": "stream",
     "text": [
      "20\n"
     ]
    }
   ],
   "source": [
    "d1 = {'Names': {1: 'jatin',2: 'dipesh',3: 'Lakshay' },\n",
    "     'Age': {1: 20,2: 20,3: 20}}\n",
    "print(d1['Age'][1])"
   ]
  },
  {
   "cell_type": "markdown",
   "metadata": {},
   "source": [
    "## Q16. Write a Python script to print a dictionary where the keys are numbers between 1 and 15 (both included) and the values are square of keys.\n",
    "## Sample Dictionary\n",
    "## {1: 1, 2: 4, 3: 9, 4: 16, 5: 25, 6: 36, 7: 49, 8: 64, 9: 81, 10: 100, 11: 121, 12: 144, 13: 169, 14: 196, 15: 225}\n"
   ]
  },
  {
   "cell_type": "code",
   "execution_count": 62,
   "metadata": {},
   "outputs": [
    {
     "name": "stdout",
     "output_type": "stream",
     "text": [
      "{1: 1, 2: 4, 3: 9, 4: 16, 5: 25, 6: 36, 7: 49, 8: 64, 9: 81, 10: 100, 11: 121, 12: 144, 13: 169, 14: 196, 15: 225}\n"
     ]
    }
   ],
   "source": [
    "d1 = {}\n",
    "\n",
    "for i in range(1,16):\n",
    "    d1[i] = i*i\n",
    "print(d1)"
   ]
  },
  {
   "cell_type": "markdown",
   "metadata": {},
   "source": [
    "## Q17. Insert factorial of keys in values. And print dictionary?"
   ]
  },
  {
   "cell_type": "code",
   "execution_count": 79,
   "metadata": {},
   "outputs": [
    {
     "name": "stdout",
     "output_type": "stream",
     "text": [
      "Enter key:5\n",
      "{1: 1, 2: 2, 3: 6, 4: 24}\n"
     ]
    }
   ],
   "source": [
    "d1 = {}\n",
    "a = int(input(\"Enter key:\"))\n",
    "for i in range(1,a+1):\n",
    "    for i in range(1,i):\n",
    "        for j in range(1,i+1):\n",
    "            b = b*j\n",
    "        d1[i] = b\n",
    "        b = 1\n",
    "print(d1)"
   ]
  },
  {
   "cell_type": "code",
   "execution_count": null,
   "metadata": {},
   "outputs": [],
   "source": []
  }
 ],
 "metadata": {
  "kernelspec": {
   "display_name": "Python 3",
   "language": "python",
   "name": "python3"
  },
  "language_info": {
   "codemirror_mode": {
    "name": "ipython",
    "version": 3
   },
   "file_extension": ".py",
   "mimetype": "text/x-python",
   "name": "python",
   "nbconvert_exporter": "python",
   "pygments_lexer": "ipython3",
   "version": "3.8.5"
  }
 },
 "nbformat": 4,
 "nbformat_minor": 4
}
