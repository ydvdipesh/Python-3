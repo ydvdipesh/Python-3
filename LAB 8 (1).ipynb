{
 "cells": [
  {
   "cell_type": "markdown",
   "metadata": {},
   "source": [
    "## LAB 8"
   ]
  },
  {
   "cell_type": "markdown",
   "metadata": {},
   "source": [
    "1. Write a Python program that create a class tringle and define two methods, create_triangle() and print_sides().\n"
   ]
  },
  {
   "cell_type": "code",
   "execution_count": 19,
   "metadata": {},
   "outputs": [
    {
     "name": "stdout",
     "output_type": "stream",
     "text": [
      "3\n",
      "4\n",
      "5\n",
      "None\n",
      "                    * \n",
      "                   * * \n",
      "                  * * * \n",
      "                 * * * * \n",
      "                * * * * * \n",
      "               * * * * * * \n",
      "              * * * * * * * \n",
      "             * * * * * * * * \n",
      "            * * * * * * * * * \n",
      "           * * * * * * * * * * \n",
      "None\n"
     ]
    }
   ],
   "source": [
    "class triangle:\n",
    "    def __init__(side,a,b,c):\n",
    "        side.a = a\n",
    "        side.b = b\n",
    "        side.c = c\n",
    "    def print_sides(side):\n",
    "        print(side.a)\n",
    "        print(side.b)\n",
    "        print(side.c)\n",
    "    def create_triangle(side):\n",
    "        n=20\n",
    "        for i in range(1, 11):\n",
    "            print(' '*n, end='') \n",
    "            print('* '*(i))\n",
    "            n-=1\n",
    "ntriangle = triangle(3,4,5)        \n",
    "            \n",
    "print(ntriangle.print_sides())\n",
    "print(ntriangle.create_triangle())\n",
    "        "
   ]
  },
  {
   "cell_type": "markdown",
   "metadata": {},
   "source": [
    "2. Write a Python program to create a class with two methods get_String() and print_String().\n"
   ]
  },
  {
   "cell_type": "code",
   "execution_count": 4,
   "metadata": {},
   "outputs": [
    {
     "name": "stdout",
     "output_type": "stream",
     "text": [
      "Enter the string :i am dipesh\n",
      "i am dipesh\n",
      "The entered string is:  i am dipesh\n",
      "None\n"
     ]
    }
   ],
   "source": [
    "class string:\n",
    "    def __init__(st,a):\n",
    "        st.a = a\n",
    "    def get_String(st):\n",
    "    \n",
    "        return st.a\n",
    "    def print_string(st):\n",
    "        print(\"The entered string is: \", st.a)\n",
    "newstring = string(str(input(\"Enter the string :\")))\n",
    "print(newstring.get_String())\n",
    "print(newstring.print_string())"
   ]
  },
  {
   "cell_type": "markdown",
   "metadata": {},
   "source": [
    "3. Write a Python program to create a class Rectangle that takes the parameter length and width. The class should also contain a method for computing its perimeter.\n"
   ]
  },
  {
   "cell_type": "code",
   "execution_count": 21,
   "metadata": {},
   "outputs": [
    {
     "name": "stdout",
     "output_type": "stream",
     "text": [
      "22\n"
     ]
    }
   ],
   "source": [
    "class rectangle:\n",
    "    def __init__(side,l,b):\n",
    "        side.l = l\n",
    "        side.b = b\n",
    "    def Perimeter(side):\n",
    "        return 2*(side.l + side.b)\n",
    "\n",
    "Nrectangle = rectangle(5,6)\n",
    "    \n",
    "print(Nrectangle.Perimeter())\n"
   ]
  },
  {
   "cell_type": "markdown",
   "metadata": {},
   "source": [
    "4.  Write a Python program to create a class Circle that takes the parameter radius. The class should also contain two methods for computing its area & perimeter respectively. Use constructor to implement initialization of parameters\n"
   ]
  },
  {
   "cell_type": "code",
   "execution_count": 22,
   "metadata": {},
   "outputs": [
    {
     "name": "stdout",
     "output_type": "stream",
     "text": [
      "78.5\n",
      "31.400000000000002\n"
     ]
    }
   ],
   "source": [
    "class circle:\n",
    "    def __init__(side,r):\n",
    "        side.rad = r\n",
    "    def Area(side):\n",
    "        return side.rad**2*3.14\n",
    "    def Perimeter(side):\n",
    "        return side.rad*2*3.14\n",
    "\n",
    "Ncircle = circle(5)\n",
    "    \n",
    "print(Ncircle.Area())\n",
    "print(Ncircle.Perimeter())\n"
   ]
  },
  {
   "cell_type": "markdown",
   "metadata": {},
   "source": [
    "5. Create a Circle class and initialize it with radius. Make two methods getArea and getCircumference inside this class.\n"
   ]
  },
  {
   "cell_type": "code",
   "execution_count": 11,
   "metadata": {},
   "outputs": [
    {
     "name": "stdout",
     "output_type": "stream",
     "text": [
      "153.86\n",
      "43.96\n"
     ]
    }
   ],
   "source": [
    "class circle:\n",
    "    def __init__(side,r):\n",
    "        side.rad = r\n",
    "    def getArea(side):\n",
    "        return side.rad**2*3.14\n",
    "    def getCircumfrence(side):\n",
    "        return side.rad*2*3.14\n",
    "\n",
    "Ncircle = circle(7)\n",
    "    \n",
    "print(Ncircle.getArea())\n",
    "print(Ncircle.getCircumfrence())\n",
    "\n"
   ]
  },
  {
   "cell_type": "markdown",
   "metadata": {},
   "source": [
    "6. Create a Temperature class. Make two methods:\n",
    "  A. convertFahrenheit - It will take Celsius and will print it into Fahrenheit.\n",
    "  B. convertCelsius - It will take Fahrenheit and will convert it into Celsius.\n"
   ]
  },
  {
   "cell_type": "code",
   "execution_count": 24,
   "metadata": {},
   "outputs": [
    {
     "name": "stdout",
     "output_type": "stream",
     "text": [
      "The temperature in fahrenheit :\n",
      "113.0\n",
      "The temperature in celsius :\n",
      "10.0\n"
     ]
    }
   ],
   "source": [
    "class temperature:\n",
    "    def __init__(temp,c,f):\n",
    "        temp.c = c\n",
    "        temp.f = f\n",
    "    def convertFahrenhite(temp):\n",
    "        print(\"The temperature in fahrenheit :\")\n",
    "        return  (temp.c* 1.8) + 32\n",
    "    def convertCelsius(temp):\n",
    "        print(\"The temperature in celsius :\")\n",
    "        return  (temp.f - 32) * 5/9\n",
    "\n",
    "Ntemp = temperature(45,50)\n",
    "    \n",
    "print(Ntemp.convertFahrenhite())\n",
    "print(Ntemp.convertCelsius())"
   ]
  },
  {
   "cell_type": "markdown",
   "metadata": {},
   "source": [
    "7. Create a Student class and initialize it with name and roll number. Make methods to:\n",
    "   1. Display - It should display all information’s of the student.\n",
    "   2. setAge - It should assign age to student\n",
    "   3. setMarks - It should assign marks to the student.\n"
   ]
  },
  {
   "cell_type": "code",
   "execution_count": 3,
   "metadata": {},
   "outputs": [
    {
     "name": "stdout",
     "output_type": "stream",
     "text": [
      "Name of the student :  Abheer\n",
      "Roll no of the student :  16\n",
      "None\n",
      "Enter the class of the student :55\n",
      "55\n",
      "Enter the marks in english :66\n",
      "Enter the marks in maths :55\n",
      "Enter the marks in science :55\n",
      "The marks of  Abheer in english,maths,science are : 66 55 55\n",
      "None\n"
     ]
    }
   ],
   "source": [
    "class student:\n",
    "    def __init__(self,name,roll_no):\n",
    "        self.name = name\n",
    "        self.roll_no = roll_no\n",
    "    def display(self):\n",
    "        print(\"Name of the student : \",self.name)\n",
    "        print(\"Roll no of the student : \",self.roll_no)\n",
    "   \n",
    "    def setAge(self):\n",
    "        x = input(\"Enter the class of the student :\")\n",
    "        return x\n",
    "    def setMarks(self):\n",
    "        a = input(\"Enter the marks in english :\")\n",
    "        b = input(\"Enter the marks in maths :\")\n",
    "        c = input(\"Enter the marks in science :\")\n",
    "        z = print(\"The marks of \",self.name, \"in english,maths,science are :\",a,b,c)\n",
    "        return z\n",
    "\n",
    "\n",
    "profile = student(\"Abheer\",16)\n",
    "    \n",
    "print(profile.display())\n",
    "print(profile.setAge())\n",
    "print(profile.setMarks())\n"
   ]
  },
  {
   "cell_type": "markdown",
   "metadata": {},
   "source": [
    "8. Write a Python class to reverse a string word by word.\n"
   ]
  },
  {
   "cell_type": "code",
   "execution_count": 5,
   "metadata": {},
   "outputs": [
    {
     "name": "stdout",
     "output_type": "stream",
     "text": [
      "Enter the string : i am dipesh\n",
      "The string entered is  i am dipesh\n",
      "hsepid ma i\n"
     ]
    }
   ],
   "source": [
    "class reverse:\n",
    "    def __init__(rev,s):\n",
    "        rev.s = s\n",
    "    def rev(rev):\n",
    "        print(\"The string entered is \",rev.s )\n",
    "        return  rev.s[::-1]\n",
    "        print(\"The reversed string is \",y )\n",
    "string = reverse( str(input(\"Enter the string : \")))\n",
    "        \n",
    "print(string.rev())\n",
    "        "
   ]
  },
  {
   "cell_type": "code",
   "execution_count": null,
   "metadata": {},
   "outputs": [],
   "source": []
  }
 ],
 "metadata": {
  "kernelspec": {
   "display_name": "Python 3",
   "language": "python",
   "name": "python3"
  },
  "language_info": {
   "codemirror_mode": {
    "name": "ipython",
    "version": 3
   },
   "file_extension": ".py",
   "mimetype": "text/x-python",
   "name": "python",
   "nbconvert_exporter": "python",
   "pygments_lexer": "ipython3",
   "version": "3.8.5"
  }
 },
 "nbformat": 4,
 "nbformat_minor": 4
}
